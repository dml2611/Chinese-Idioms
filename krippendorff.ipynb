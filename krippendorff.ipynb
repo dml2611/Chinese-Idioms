{
  "nbformat": 4,
  "nbformat_minor": 0,
  "metadata": {
    "colab": {
      "provenance": [],
      "authorship_tag": "ABX9TyOUXlaeRudk6LQadUCOU7O4",
      "include_colab_link": true
    },
    "kernelspec": {
      "name": "python3",
      "display_name": "Python 3"
    },
    "language_info": {
      "name": "python"
    }
  },
  "cells": [
    {
      "cell_type": "markdown",
      "metadata": {
        "id": "view-in-github",
        "colab_type": "text"
      },
      "source": [
        "<a href=\"https://colab.research.google.com/github/dml2611/Chinese-Idioms/blob/main/krippendorff.ipynb\" target=\"_parent\"><img src=\"https://colab.research.google.com/assets/colab-badge.svg\" alt=\"Open In Colab\"/></a>"
      ]
    },
    {
      "cell_type": "code",
      "source": [
        "# Install Krippendorff\n",
        "!pip install krippendorff"
      ],
      "metadata": {
        "colab": {
          "base_uri": "https://localhost:8080/"
        },
        "id": "JsiFG5b8eVNJ",
        "outputId": "bcd57d3e-2db2-4329-b735-bd1ab51e2075"
      },
      "execution_count": 2,
      "outputs": [
        {
          "output_type": "stream",
          "name": "stdout",
          "text": [
            "Collecting krippendorff\n",
            "  Downloading krippendorff-0.6.1-py3-none-any.whl (18 kB)\n",
            "Requirement already satisfied: numpy<2.0,>=1.21 in /usr/local/lib/python3.10/dist-packages (from krippendorff) (1.25.2)\n",
            "Installing collected packages: krippendorff\n",
            "Successfully installed krippendorff-0.6.1\n"
          ]
        }
      ]
    },
    {
      "cell_type": "code",
      "metadata": {
        "id": "I1VnTVhgCJ7S"
      },
      "source": [
        "# Import libraries\n",
        "import pandas as pd\n",
        "import numpy as np\n",
        "import krippendorff\n",
        "from sklearn.preprocessing import LabelEncoder"
      ],
      "execution_count": 3,
      "outputs": []
    },
    {
      "cell_type": "code",
      "metadata": {
        "id": "Ckd0qf_IBbo2"
      },
      "source": [
        "# Initialise the data path\n",
        "data_path = \"\"     # Enter your data path"
      ],
      "execution_count": 4,
      "outputs": []
    },
    {
      "cell_type": "code",
      "source": [
        "# Enter all the human evaluation results for different annotators, in this case 3\n",
        "eval_1 = pd.read_excel(data_path + \"\")\n",
        "eval_2 = pd.read_excel(data_path + \"\")\n",
        "eval_3 = pd.read_excel(data_path + \"\")"
      ],
      "metadata": {
        "id": "I-taYGUe21gn"
      },
      "execution_count": 5,
      "outputs": []
    },
    {
      "cell_type": "code",
      "source": [
        "# Encode all categorical values in numeric format\n",
        "enc_a = LabelEncoder()\n",
        "enc_i = LabelEncoder()\n",
        "enc_f = LabelEncoder()\n",
        "\n",
        "Accuracy = ['inaccurate', 'poor', 'moderate', 'good', 'high']\n",
        "acc = enc_a.fit(Accuracy)\n",
        "\n",
        "Intelligibility = ['unintelligible', 'little',  'much', 'most', 'all']\n",
        "intel = enc_i.fit(Intelligibility)\n",
        "\n",
        "Fluency = ['incomprehensible', 'disfluent', 'correct', 'good', 'elegant']\n",
        "flue = enc_f.fit(Fluency)"
      ],
      "metadata": {
        "id": "XbqIsZCLhzJQ"
      },
      "execution_count": 22,
      "outputs": []
    },
    {
      "cell_type": "code",
      "source": [
        "# Krippendorff Alpha\n",
        "def calculate_krippendorff_alpha(data):\n",
        "    return krippendorff.alpha(reliability_data=data, level_of_measurement='ordinal')\n",
        "\n",
        "def krippendorff_calc(num):\n",
        "  # Accuracy\n",
        "  a1 = acc.transform(eval_1[f'A{num}'])\n",
        "  a2 = acc.transform(eval_2[f'A{num}'])\n",
        "  a3 = acc.transform(eval_3[f'A{num}'])\n",
        "\n",
        "  # Intelligibility\n",
        "  i1 = intel.transform(eval_1[f'I{num}'])\n",
        "  i2 = intel.transform(eval_2[f'I{num}'])\n",
        "  i3 = intel.transform(eval_3[f'I{num}'])\n",
        "\n",
        "  # Fluency\n",
        "  f1 = flue.transform(eval_1[f'F{num}'])\n",
        "  f2 = flue.transform(eval_2[f'F{num}'])\n",
        "  f3 = flue.transform(eval_3[f'F{num}'])\n",
        "\n",
        "  accuracy_data = np.array([a1, a2, a3])\n",
        "\n",
        "  intelligibility_data = np.array([i1, i2, i3])\n",
        "\n",
        "  fluency_data = np.array([f1, f2, f3])\n",
        "\n",
        "  alpha_accuracy = calculate_krippendorff_alpha(accuracy_data)\n",
        "  alpha_intelligibility = calculate_krippendorff_alpha(intelligibility_data)\n",
        "  alpha_fluency = calculate_krippendorff_alpha(fluency_data)\n",
        "\n",
        "  print(f\"------------------------------| Model {num} |----------------------------------\")\n",
        "  print(f\"Krippendorff's Alpha for Accuracy: {alpha_accuracy}\")\n",
        "  print(f\"Krippendorff's Alpha for Intelligibility: {alpha_intelligibility}\")\n",
        "  print(f\"Krippendorff's Alpha for Fluency: {alpha_fluency}\")\n",
        "\n",
        "  return alpha_accuracy, alpha_intelligibility, alpha_fluency"
      ],
      "metadata": {
        "id": "8iUbiojvesdf"
      },
      "execution_count": 23,
      "outputs": []
    },
    {
      "cell_type": "code",
      "source": [
        "# Calculate Krippendorff's Alpha for all models, in this case 9 (GoogleTrans, Microsoft, DeepL, ChatGPT, Llama, GLM, VolcanoTrans, NiuTrans, Baidu)\n",
        "for j in range(1, 10):\n",
        "  exec(f'mt_{j}_alpha_accuracy, mt_{j}_alpha_intelligibility, mt_{j}_alpha_fluency = krippendorff_calc({j})')\n",
        "  print(\"\\n\")"
      ],
      "metadata": {
        "colab": {
          "base_uri": "https://localhost:8080/"
        },
        "id": "aUAFbUN3esfu",
        "outputId": "2603ceed-065a-4d9f-c018-6eb6dfdd15c8"
      },
      "execution_count": 25,
      "outputs": [
        {
          "output_type": "stream",
          "name": "stdout",
          "text": [
            "------------------------------| Model 1 |----------------------------------\n",
            "Krippendorff's Alpha for Accuracy: 0.8145224977043158\n",
            "Krippendorff's Alpha for Intelligibility: 0.8954307734654555\n",
            "Krippendorff's Alpha for Fluency: 0.06594222222222224\n",
            "\n",
            "\n",
            "------------------------------| Model 2 |----------------------------------\n",
            "Krippendorff's Alpha for Accuracy: 0.30499637067505436\n",
            "Krippendorff's Alpha for Intelligibility: 0.8686107044086546\n",
            "Krippendorff's Alpha for Fluency: 0.10127476313522821\n",
            "\n",
            "\n",
            "------------------------------| Model 3 |----------------------------------\n",
            "Krippendorff's Alpha for Accuracy: 0.4457305657305657\n",
            "Krippendorff's Alpha for Intelligibility: 0.49317957572767634\n",
            "Krippendorff's Alpha for Fluency: -0.029203216374268814\n",
            "\n",
            "\n",
            "------------------------------| Model 4 |----------------------------------\n",
            "Krippendorff's Alpha for Accuracy: 0.29194144268957234\n",
            "Krippendorff's Alpha for Intelligibility: 0.16252826775214824\n",
            "Krippendorff's Alpha for Fluency: 0.5054621848739496\n",
            "\n",
            "\n",
            "------------------------------| Model 5 |----------------------------------\n",
            "Krippendorff's Alpha for Accuracy: 0.3394284770399736\n",
            "Krippendorff's Alpha for Intelligibility: 0.8900340847470757\n",
            "Krippendorff's Alpha for Fluency: 0.6638888888888889\n",
            "\n",
            "\n",
            "------------------------------| Model 6 |----------------------------------\n",
            "Krippendorff's Alpha for Accuracy: 0.020184230622374955\n",
            "Krippendorff's Alpha for Intelligibility: 0.4624888532191904\n",
            "Krippendorff's Alpha for Fluency: 0.5091168091168091\n",
            "\n",
            "\n",
            "------------------------------| Model 7 |----------------------------------\n",
            "Krippendorff's Alpha for Accuracy: 0.2667994858611825\n",
            "Krippendorff's Alpha for Intelligibility: 0.817398828541001\n",
            "Krippendorff's Alpha for Fluency: 0.31404343945254387\n",
            "\n",
            "\n",
            "------------------------------| Model 8 |----------------------------------\n",
            "Krippendorff's Alpha for Accuracy: 0.5389518770471152\n",
            "Krippendorff's Alpha for Intelligibility: 0.6280412994643165\n",
            "Krippendorff's Alpha for Fluency: 0.7169047619047619\n",
            "\n",
            "\n",
            "------------------------------| Model 9 |----------------------------------\n",
            "Krippendorff's Alpha for Accuracy: 0.02616356643905504\n",
            "Krippendorff's Alpha for Intelligibility: 0.3520957607571781\n",
            "Krippendorff's Alpha for Fluency: -0.0602367688022285\n",
            "\n",
            "\n"
          ]
        }
      ]
    }
  ]
}