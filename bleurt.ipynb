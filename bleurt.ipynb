{
  "nbformat": 4,
  "nbformat_minor": 0,
  "metadata": {
    "colab": {
      "provenance": [],
      "authorship_tag": "ABX9TyN93FXpWxfNjo/HmkxQJwBM",
      "include_colab_link": true
    },
    "kernelspec": {
      "name": "python3",
      "display_name": "Python 3"
    },
    "language_info": {
      "name": "python"
    }
  },
  "cells": [
    {
      "cell_type": "markdown",
      "metadata": {
        "id": "view-in-github",
        "colab_type": "text"
      },
      "source": [
        "<a href=\"https://colab.research.google.com/github/dml2611/Chinese-Idioms/blob/main/bleurt.ipynb\" target=\"_parent\"><img src=\"https://colab.research.google.com/assets/colab-badge.svg\" alt=\"Open In Colab\"/></a>"
      ]
    },
    {
      "cell_type": "code",
      "metadata": {
        "colab": {
          "base_uri": "https://localhost:8080/"
        },
        "id": "er5ZC2RN44Bd",
        "outputId": "43f9a139-6912-4c23-a76c-fc8815a9d21f"
      },
      "source": [
        "# Installing bluert\n",
        "!pip install --upgrade pip  # ensures that pip is current\n",
        "!git clone https://github.com/google-research/bleurt.git"
      ],
      "execution_count": 1,
      "outputs": [
        {
          "output_type": "stream",
          "name": "stdout",
          "text": [
            "Requirement already satisfied: pip in /usr/local/lib/python3.10/dist-packages (23.1.2)\n",
            "Collecting pip\n",
            "  Downloading pip-24.0-py3-none-any.whl (2.1 MB)\n",
            "\u001b[2K     \u001b[90m━━━━━━━━━━━━━━━━━━━━━━━━━━━━━━━━━━━━━━━━\u001b[0m \u001b[32m2.1/2.1 MB\u001b[0m \u001b[31m10.4 MB/s\u001b[0m eta \u001b[36m0:00:00\u001b[0m\n",
            "\u001b[?25hInstalling collected packages: pip\n",
            "  Attempting uninstall: pip\n",
            "    Found existing installation: pip 23.1.2\n",
            "    Uninstalling pip-23.1.2:\n",
            "      Successfully uninstalled pip-23.1.2\n",
            "Successfully installed pip-24.0\n",
            "Cloning into 'bleurt'...\n",
            "remote: Enumerating objects: 134, done.\u001b[K\n",
            "remote: Counting objects: 100% (18/18), done.\u001b[K\n",
            "remote: Compressing objects: 100% (18/18), done.\u001b[K\n",
            "remote: Total 134 (delta 0), reused 17 (delta 0), pack-reused 116\u001b[K\n",
            "Receiving objects: 100% (134/134), 31.28 MiB | 30.65 MiB/s, done.\n",
            "Resolving deltas: 100% (49/49), done.\n"
          ]
        }
      ]
    },
    {
      "cell_type": "code",
      "source": [
        "cd bleurt"
      ],
      "metadata": {
        "colab": {
          "base_uri": "https://localhost:8080/"
        },
        "id": "G6A6qP8uKtMD",
        "outputId": "67abdcce-cffe-4822-bc55-7d913c45aa2e"
      },
      "execution_count": 5,
      "outputs": [
        {
          "output_type": "stream",
          "name": "stdout",
          "text": [
            "/content/bleurt\n"
          ]
        }
      ]
    },
    {
      "cell_type": "code",
      "source": [
        "pip install ."
      ],
      "metadata": {
        "id": "JS_DGc1hKva9",
        "colab": {
          "base_uri": "https://localhost:8080/"
        },
        "outputId": "c826ba75-463e-403d-dc7c-fb9077e9d91c"
      },
      "execution_count": 6,
      "outputs": [
        {
          "output_type": "stream",
          "name": "stdout",
          "text": [
            "Processing /content/bleurt\n",
            "  Preparing metadata (setup.py) ... \u001b[?25l\u001b[?25hdone\n",
            "Requirement already satisfied: pandas in /usr/local/lib/python3.10/dist-packages (from BLEURT==0.0.2) (1.5.3)\n",
            "Requirement already satisfied: numpy in /usr/local/lib/python3.10/dist-packages (from BLEURT==0.0.2) (1.25.2)\n",
            "Requirement already satisfied: scipy in /usr/local/lib/python3.10/dist-packages (from BLEURT==0.0.2) (1.11.4)\n",
            "Requirement already satisfied: tensorflow in /usr/local/lib/python3.10/dist-packages (from BLEURT==0.0.2) (2.15.0)\n",
            "Requirement already satisfied: tf-slim>=1.1 in /usr/local/lib/python3.10/dist-packages (from BLEURT==0.0.2) (1.1.0)\n",
            "Requirement already satisfied: sentencepiece in /usr/local/lib/python3.10/dist-packages (from BLEURT==0.0.2) (0.1.99)\n",
            "Requirement already satisfied: absl-py>=0.2.2 in /usr/local/lib/python3.10/dist-packages (from tf-slim>=1.1->BLEURT==0.0.2) (1.4.0)\n",
            "Requirement already satisfied: python-dateutil>=2.8.1 in /usr/local/lib/python3.10/dist-packages (from pandas->BLEURT==0.0.2) (2.8.2)\n",
            "Requirement already satisfied: pytz>=2020.1 in /usr/local/lib/python3.10/dist-packages (from pandas->BLEURT==0.0.2) (2023.4)\n",
            "Requirement already satisfied: astunparse>=1.6.0 in /usr/local/lib/python3.10/dist-packages (from tensorflow->BLEURT==0.0.2) (1.6.3)\n",
            "Requirement already satisfied: flatbuffers>=23.5.26 in /usr/local/lib/python3.10/dist-packages (from tensorflow->BLEURT==0.0.2) (24.3.7)\n",
            "Requirement already satisfied: gast!=0.5.0,!=0.5.1,!=0.5.2,>=0.2.1 in /usr/local/lib/python3.10/dist-packages (from tensorflow->BLEURT==0.0.2) (0.5.4)\n",
            "Requirement already satisfied: google-pasta>=0.1.1 in /usr/local/lib/python3.10/dist-packages (from tensorflow->BLEURT==0.0.2) (0.2.0)\n",
            "Requirement already satisfied: h5py>=2.9.0 in /usr/local/lib/python3.10/dist-packages (from tensorflow->BLEURT==0.0.2) (3.9.0)\n",
            "Requirement already satisfied: libclang>=13.0.0 in /usr/local/lib/python3.10/dist-packages (from tensorflow->BLEURT==0.0.2) (16.0.6)\n",
            "Requirement already satisfied: ml-dtypes~=0.2.0 in /usr/local/lib/python3.10/dist-packages (from tensorflow->BLEURT==0.0.2) (0.2.0)\n",
            "Requirement already satisfied: opt-einsum>=2.3.2 in /usr/local/lib/python3.10/dist-packages (from tensorflow->BLEURT==0.0.2) (3.3.0)\n",
            "Requirement already satisfied: packaging in /usr/local/lib/python3.10/dist-packages (from tensorflow->BLEURT==0.0.2) (24.0)\n",
            "Requirement already satisfied: protobuf!=4.21.0,!=4.21.1,!=4.21.2,!=4.21.3,!=4.21.4,!=4.21.5,<5.0.0dev,>=3.20.3 in /usr/local/lib/python3.10/dist-packages (from tensorflow->BLEURT==0.0.2) (3.20.3)\n",
            "Requirement already satisfied: setuptools in /usr/local/lib/python3.10/dist-packages (from tensorflow->BLEURT==0.0.2) (67.7.2)\n",
            "Requirement already satisfied: six>=1.12.0 in /usr/local/lib/python3.10/dist-packages (from tensorflow->BLEURT==0.0.2) (1.16.0)\n",
            "Requirement already satisfied: termcolor>=1.1.0 in /usr/local/lib/python3.10/dist-packages (from tensorflow->BLEURT==0.0.2) (2.4.0)\n",
            "Requirement already satisfied: typing-extensions>=3.6.6 in /usr/local/lib/python3.10/dist-packages (from tensorflow->BLEURT==0.0.2) (4.10.0)\n",
            "Requirement already satisfied: wrapt<1.15,>=1.11.0 in /usr/local/lib/python3.10/dist-packages (from tensorflow->BLEURT==0.0.2) (1.14.1)\n",
            "Requirement already satisfied: tensorflow-io-gcs-filesystem>=0.23.1 in /usr/local/lib/python3.10/dist-packages (from tensorflow->BLEURT==0.0.2) (0.36.0)\n",
            "Requirement already satisfied: grpcio<2.0,>=1.24.3 in /usr/local/lib/python3.10/dist-packages (from tensorflow->BLEURT==0.0.2) (1.62.1)\n",
            "Requirement already satisfied: tensorboard<2.16,>=2.15 in /usr/local/lib/python3.10/dist-packages (from tensorflow->BLEURT==0.0.2) (2.15.2)\n",
            "Requirement already satisfied: tensorflow-estimator<2.16,>=2.15.0 in /usr/local/lib/python3.10/dist-packages (from tensorflow->BLEURT==0.0.2) (2.15.0)\n",
            "Requirement already satisfied: keras<2.16,>=2.15.0 in /usr/local/lib/python3.10/dist-packages (from tensorflow->BLEURT==0.0.2) (2.15.0)\n",
            "Requirement already satisfied: wheel<1.0,>=0.23.0 in /usr/local/lib/python3.10/dist-packages (from astunparse>=1.6.0->tensorflow->BLEURT==0.0.2) (0.43.0)\n",
            "Requirement already satisfied: google-auth<3,>=1.6.3 in /usr/local/lib/python3.10/dist-packages (from tensorboard<2.16,>=2.15->tensorflow->BLEURT==0.0.2) (2.27.0)\n",
            "Requirement already satisfied: google-auth-oauthlib<2,>=0.5 in /usr/local/lib/python3.10/dist-packages (from tensorboard<2.16,>=2.15->tensorflow->BLEURT==0.0.2) (1.2.0)\n",
            "Requirement already satisfied: markdown>=2.6.8 in /usr/local/lib/python3.10/dist-packages (from tensorboard<2.16,>=2.15->tensorflow->BLEURT==0.0.2) (3.6)\n",
            "Requirement already satisfied: requests<3,>=2.21.0 in /usr/local/lib/python3.10/dist-packages (from tensorboard<2.16,>=2.15->tensorflow->BLEURT==0.0.2) (2.31.0)\n",
            "Requirement already satisfied: tensorboard-data-server<0.8.0,>=0.7.0 in /usr/local/lib/python3.10/dist-packages (from tensorboard<2.16,>=2.15->tensorflow->BLEURT==0.0.2) (0.7.2)\n",
            "Requirement already satisfied: werkzeug>=1.0.1 in /usr/local/lib/python3.10/dist-packages (from tensorboard<2.16,>=2.15->tensorflow->BLEURT==0.0.2) (3.0.1)\n",
            "Requirement already satisfied: cachetools<6.0,>=2.0.0 in /usr/local/lib/python3.10/dist-packages (from google-auth<3,>=1.6.3->tensorboard<2.16,>=2.15->tensorflow->BLEURT==0.0.2) (5.3.3)\n",
            "Requirement already satisfied: pyasn1-modules>=0.2.1 in /usr/local/lib/python3.10/dist-packages (from google-auth<3,>=1.6.3->tensorboard<2.16,>=2.15->tensorflow->BLEURT==0.0.2) (0.3.0)\n",
            "Requirement already satisfied: rsa<5,>=3.1.4 in /usr/local/lib/python3.10/dist-packages (from google-auth<3,>=1.6.3->tensorboard<2.16,>=2.15->tensorflow->BLEURT==0.0.2) (4.9)\n",
            "Requirement already satisfied: requests-oauthlib>=0.7.0 in /usr/local/lib/python3.10/dist-packages (from google-auth-oauthlib<2,>=0.5->tensorboard<2.16,>=2.15->tensorflow->BLEURT==0.0.2) (1.4.0)\n",
            "Requirement already satisfied: charset-normalizer<4,>=2 in /usr/local/lib/python3.10/dist-packages (from requests<3,>=2.21.0->tensorboard<2.16,>=2.15->tensorflow->BLEURT==0.0.2) (3.3.2)\n",
            "Requirement already satisfied: idna<4,>=2.5 in /usr/local/lib/python3.10/dist-packages (from requests<3,>=2.21.0->tensorboard<2.16,>=2.15->tensorflow->BLEURT==0.0.2) (3.6)\n",
            "Requirement already satisfied: urllib3<3,>=1.21.1 in /usr/local/lib/python3.10/dist-packages (from requests<3,>=2.21.0->tensorboard<2.16,>=2.15->tensorflow->BLEURT==0.0.2) (2.0.7)\n",
            "Requirement already satisfied: certifi>=2017.4.17 in /usr/local/lib/python3.10/dist-packages (from requests<3,>=2.21.0->tensorboard<2.16,>=2.15->tensorflow->BLEURT==0.0.2) (2024.2.2)\n",
            "Requirement already satisfied: MarkupSafe>=2.1.1 in /usr/local/lib/python3.10/dist-packages (from werkzeug>=1.0.1->tensorboard<2.16,>=2.15->tensorflow->BLEURT==0.0.2) (2.1.5)\n",
            "Requirement already satisfied: pyasn1<0.6.0,>=0.4.6 in /usr/local/lib/python3.10/dist-packages (from pyasn1-modules>=0.2.1->google-auth<3,>=1.6.3->tensorboard<2.16,>=2.15->tensorflow->BLEURT==0.0.2) (0.5.1)\n",
            "Requirement already satisfied: oauthlib>=3.0.0 in /usr/local/lib/python3.10/dist-packages (from requests-oauthlib>=0.7.0->google-auth-oauthlib<2,>=0.5->tensorboard<2.16,>=2.15->tensorflow->BLEURT==0.0.2) (3.2.2)\n",
            "Building wheels for collected packages: BLEURT\n",
            "  Building wheel for BLEURT (setup.py) ... \u001b[?25l\u001b[?25hdone\n",
            "  Created wheel for BLEURT: filename=BLEURT-0.0.2-py3-none-any.whl size=16456763 sha256=7a756234652f17e42e6cc14d5024be8f53cae605423af41d06e893e60bf57bca\n",
            "  Stored in directory: /tmp/pip-ephem-wheel-cache-zqbxxryl/wheels/92/4f/fb/afa555fa27aa9e2c7958df797a62cc4e74f0f459cec9c4fa7c\n",
            "Successfully built BLEURT\n",
            "Installing collected packages: BLEURT\n",
            "Successfully installed BLEURT-0.0.2\n",
            "\u001b[33mWARNING: Running pip as the 'root' user can result in broken permissions and conflicting behaviour with the system package manager. It is recommended to use a virtual environment instead: https://pip.pypa.io/warnings/venv\u001b[0m\u001b[33m\n",
            "\u001b[0m"
          ]
        }
      ]
    },
    {
      "cell_type": "code",
      "metadata": {
        "id": "q7FDlYBN5Y6N",
        "colab": {
          "base_uri": "https://localhost:8080/"
        },
        "outputId": "2182f92c-2a8a-43ef-a5e7-08b5a935b691"
      },
      "source": [
        "!wget https://storage.googleapis.com/bleurt-oss-21/BLEURT-20.zip ."
      ],
      "execution_count": 7,
      "outputs": [
        {
          "output_type": "stream",
          "name": "stdout",
          "text": [
            "--2024-03-19 17:31:46--  https://storage.googleapis.com/bleurt-oss-21/BLEURT-20.zip\n",
            "Resolving storage.googleapis.com (storage.googleapis.com)... 142.250.128.207, 142.251.6.207, 172.217.212.207, ...\n",
            "Connecting to storage.googleapis.com (storage.googleapis.com)|142.250.128.207|:443... connected.\n",
            "HTTP request sent, awaiting response... 200 OK\n",
            "Length: 2140294207 (2.0G) [application/octet-stream]\n",
            "Saving to: ‘BLEURT-20.zip’\n",
            "\n",
            "BLEURT-20.zip       100%[===================>]   1.99G   179MB/s    in 13s     \n",
            "\n",
            "2024-03-19 17:31:59 (162 MB/s) - ‘BLEURT-20.zip’ saved [2140294207/2140294207]\n",
            "\n",
            "--2024-03-19 17:31:59--  http://./\n",
            "Resolving . (.)... failed: No address associated with hostname.\n",
            "wget: unable to resolve host address ‘.’\n",
            "FINISHED --2024-03-19 17:31:59--\n",
            "Total wall clock time: 13s\n",
            "Downloaded: 1 files, 2.0G in 13s (162 MB/s)\n"
          ]
        }
      ]
    },
    {
      "cell_type": "code",
      "source": [
        "!unzip BLEURT-20.zip"
      ],
      "metadata": {
        "colab": {
          "base_uri": "https://localhost:8080/"
        },
        "id": "aIgSJxbwK67o",
        "outputId": "e4af1813-26ba-4278-9383-dc316f8e229f"
      },
      "execution_count": 8,
      "outputs": [
        {
          "output_type": "stream",
          "name": "stdout",
          "text": [
            "Archive:  BLEURT-20.zip\n",
            "   creating: BLEURT-20/\n",
            "  inflating: BLEURT-20/bert_config.json  \n",
            "  inflating: BLEURT-20/saved_model.pb  \n",
            "   creating: BLEURT-20/variables/\n",
            "  inflating: BLEURT-20/variables/variables.index  \n",
            "  inflating: BLEURT-20/variables/variables.data-00000-of-00001  \n",
            "  inflating: BLEURT-20/sent_piece.vocab  \n",
            "  inflating: BLEURT-20/bleurt_config.json  \n",
            "  inflating: BLEURT-20/sent_piece.model  \n"
          ]
        }
      ]
    },
    {
      "cell_type": "code",
      "source": [
        "!python -m bleurt.score_files \\\n",
        "  -candidate_file=bleurt/test_data/candidates \\\n",
        "  -reference_file=bleurt/test_data/references \\\n",
        "  -bleurt_checkpoint=BLEURT-20"
      ],
      "metadata": {
        "colab": {
          "base_uri": "https://localhost:8080/"
        },
        "id": "TfYpqaujRyBT",
        "outputId": "02378980-cdf6-4237-e12f-432085e05a9d"
      },
      "execution_count": 14,
      "outputs": [
        {
          "output_type": "stream",
          "name": "stdout",
          "text": [
            "2024-03-19 17:34:36.805080: E external/local_xla/xla/stream_executor/cuda/cuda_dnn.cc:9261] Unable to register cuDNN factory: Attempting to register factory for plugin cuDNN when one has already been registered\n",
            "2024-03-19 17:34:36.805127: E external/local_xla/xla/stream_executor/cuda/cuda_fft.cc:607] Unable to register cuFFT factory: Attempting to register factory for plugin cuFFT when one has already been registered\n",
            "2024-03-19 17:34:36.806134: E external/local_xla/xla/stream_executor/cuda/cuda_blas.cc:1515] Unable to register cuBLAS factory: Attempting to register factory for plugin cuBLAS when one has already been registered\n",
            "2024-03-19 17:34:37.793278: W tensorflow/compiler/tf2tensorrt/utils/py_utils.cc:38] TF-TRT Warning: Could not find TensorRT\n",
            "INFO:tensorflow:Running BLEURT scoring.\n",
            "I0319 17:34:39.237509 134774606000128 score_files.py:168] Running BLEURT scoring.\n",
            "INFO:tensorflow:Reading checkpoint BLEURT-20.\n",
            "I0319 17:34:39.237785 134774606000128 score.py:160] Reading checkpoint BLEURT-20.\n",
            "INFO:tensorflow:Config file found, reading.\n",
            "I0319 17:34:39.238118 134774606000128 checkpoint.py:91] Config file found, reading.\n",
            "INFO:tensorflow:Will load checkpoint BLEURT-20\n",
            "I0319 17:34:39.238458 134774606000128 checkpoint.py:95] Will load checkpoint BLEURT-20\n",
            "INFO:tensorflow:Loads full paths and checks that files exists.\n",
            "I0319 17:34:39.238564 134774606000128 checkpoint.py:97] Loads full paths and checks that files exists.\n",
            "INFO:tensorflow:... name:BLEURT-20\n",
            "I0319 17:34:39.238642 134774606000128 checkpoint.py:101] ... name:BLEURT-20\n",
            "INFO:tensorflow:... bert_config_file:bert_config.json\n",
            "I0319 17:34:39.238720 134774606000128 checkpoint.py:101] ... bert_config_file:bert_config.json\n",
            "INFO:tensorflow:... max_seq_length:512\n",
            "I0319 17:34:39.238821 134774606000128 checkpoint.py:101] ... max_seq_length:512\n",
            "INFO:tensorflow:... vocab_file:None\n",
            "I0319 17:34:39.238900 134774606000128 checkpoint.py:101] ... vocab_file:None\n",
            "INFO:tensorflow:... do_lower_case:None\n",
            "I0319 17:34:39.238991 134774606000128 checkpoint.py:101] ... do_lower_case:None\n",
            "INFO:tensorflow:... sp_model:sent_piece\n",
            "I0319 17:34:39.239036 134774606000128 checkpoint.py:101] ... sp_model:sent_piece\n",
            "INFO:tensorflow:... dynamic_seq_length:True\n",
            "I0319 17:34:39.239158 134774606000128 checkpoint.py:101] ... dynamic_seq_length:True\n",
            "INFO:tensorflow:Creating BLEURT scorer.\n",
            "I0319 17:34:39.239238 134774606000128 score.py:167] Creating BLEURT scorer.\n",
            "INFO:tensorflow:Creating SentencePiece tokenizer.\n",
            "I0319 17:34:39.239307 134774606000128 tokenizers.py:79] Creating SentencePiece tokenizer.\n",
            "INFO:tensorflow:Creating SentencePiece tokenizer.\n",
            "I0319 17:34:39.239373 134774606000128 tokenizers.py:58] Creating SentencePiece tokenizer.\n",
            "INFO:tensorflow:Will load model: BLEURT-20/sent_piece.model.\n",
            "I0319 17:34:39.239431 134774606000128 tokenizers.py:60] Will load model: BLEURT-20/sent_piece.model.\n",
            "INFO:tensorflow:SentencePiece tokenizer created.\n",
            "I0319 17:34:39.773764 134774606000128 tokenizers.py:64] SentencePiece tokenizer created.\n",
            "INFO:tensorflow:Creating Eager Mode predictor.\n",
            "I0319 17:34:39.774031 134774606000128 score.py:56] Creating Eager Mode predictor.\n",
            "INFO:tensorflow:Loading model.\n",
            "I0319 17:34:39.774109 134774606000128 score.py:61] Loading model.\n",
            "2024-03-19 17:34:42.557054: W external/local_tsl/tsl/framework/cpu_allocator_impl.cc:83] Allocation of 256307200 exceeds 10% of free system memory.\n",
            "2024-03-19 17:34:42.586411: W external/local_tsl/tsl/framework/cpu_allocator_impl.cc:83] Allocation of 21233664 exceeds 10% of free system memory.\n",
            "2024-03-19 17:34:42.599765: W external/local_tsl/tsl/framework/cpu_allocator_impl.cc:83] Allocation of 21233664 exceeds 10% of free system memory.\n",
            "2024-03-19 17:34:42.628356: W external/local_tsl/tsl/framework/cpu_allocator_impl.cc:83] Allocation of 21233664 exceeds 10% of free system memory.\n",
            "2024-03-19 17:34:42.641591: W external/local_tsl/tsl/framework/cpu_allocator_impl.cc:83] Allocation of 21233664 exceeds 10% of free system memory.\n",
            "I0319 17:34:46.290413 134774606000128 load.py:1084] Fingerprint not found. Saved model loading will continue.\n",
            "I0319 17:34:46.290670 134774606000128 load.py:1103] path_and_singleprint metric could not be logged. Saved model loading will continue.\n",
            "INFO:tensorflow:BLEURT initialized.\n",
            "I0319 17:34:46.325166 134774606000128 score.py:173] BLEURT initialized.\n",
            "INFO:tensorflow:Computing BLEURT scores...\n",
            "I0319 17:34:46.325361 134774606000128 score_files.py:132] Computing BLEURT scores...\n",
            "INFO:tensorflow:BLEURT scores computed.\n",
            "I0319 17:35:26.625566 134774606000128 score_files.py:140] BLEURT scores computed.\n",
            "0.9777958393096924\n",
            "0.7689991593360901\n",
            "0.44009655714035034\n",
            "0.16677361726760864\n",
            "INFO:tensorflow:Done.\n",
            "I0319 17:35:26.625809 134774606000128 score_files.py:150] Done.\n"
          ]
        }
      ]
    },
    {
      "cell_type": "code",
      "source": [
        "# Import libraries\n",
        "import pandas as pd\n",
        "from bleurt import score"
      ],
      "metadata": {
        "id": "33R21ytILb72"
      },
      "execution_count": 13,
      "outputs": []
    },
    {
      "cell_type": "code",
      "metadata": {
        "colab": {
          "base_uri": "https://localhost:8080/"
        },
        "id": "M1latRb44vP2",
        "outputId": "f9c12cda-b976-48b3-ba00-f0313d2dcb9e"
      },
      "source": [
        "# Mount the google drive\n",
        "from google.colab import drive\n",
        "drive.mount(\"/content/gdrive\")"
      ],
      "execution_count": 10,
      "outputs": [
        {
          "output_type": "stream",
          "name": "stdout",
          "text": [
            "Mounted at /content/gdrive\n"
          ]
        }
      ]
    },
    {
      "cell_type": "code",
      "source": [
        "# Initialise the data input and output paths\n",
        "data_path = \" ------ \"\n",
        "outfile_path = \" ------ \""
      ],
      "metadata": {
        "id": "G7IVtFAtLVNt"
      },
      "execution_count": 11,
      "outputs": []
    },
    {
      "cell_type": "code",
      "source": [
        "# Create a dataframe for all model translations, in this case 9 (Google, Microsoft, DeepL, GPT4, Llama2, GLM4, VolcanoTrans, NiuTrans, Baidu)\n",
        "translations  =  pd.read_excel(data_path + \"------\")     # excel sheet containing reference and machine translations\n",
        "\n",
        "# Machine translations for 9 models\n",
        "candidate_gpt4 = translations['GPT4']\n",
        "candidate_deepL = translations['Deepl']\n",
        "candidate_micro = translations['Microsoft']\n",
        "candidate_llama2 = translations['Llama2']\n",
        "candidate_googleTrans = translations['Google']\n",
        "candidate_glm4 = translations['GLM4']\n",
        "candidate_niuTrans = translations['Niu']\n",
        "candidate_volcTrans = translations['Volc']\n",
        "candidate_baidu = translations['Baidu']\n",
        "\n",
        "# Original translations\n",
        "reference = translations['HT']"
      ],
      "metadata": {
        "id": "9NnZt5rHL7kJ"
      },
      "execution_count": 12,
      "outputs": []
    },
    {
      "cell_type": "code",
      "source": [
        "def calc_bleurt(translations, name):\n",
        "  bleurt_scores = scorer.score(references=reference, candidates=translations)\n",
        "  print(name, bleurt_scores)\n",
        "  return bleurt_scores"
      ],
      "metadata": {
        "id": "OqO6PVj4Lgtr"
      },
      "execution_count": 17,
      "outputs": []
    },
    {
      "cell_type": "code",
      "source": [
        "# Calculating bleurt scores for all machine translation systems, in this case 9 (Google, Microsoft, DeepL, GPT4, Llama2, GLM4, VolcanoTrans, NiuTrans, Baidu)\n",
        "checkpoint = \"bleurt/test_checkpoint\"\n",
        "scorer = score.BleurtScorer(checkpoint)\n",
        "\n",
        "bleurt_gt =  calc_bleurt(candidate_googleTrans, \"Google Translation\")\n",
        "bleurt_ms =  calc_bleurt(candidate_micro, \"Microsoft\")\n",
        "bleurt_dl =  calc_bleurt(candidate_deepL, \"DeepL\")\n",
        "bleurt_nt =  calc_bleurt(candidate_niuTrans, \"Niu Trans\")\n",
        "bleurt_vt =  calc_bleurt(candidate_volcTrans, \"Volcano Trans\")\n",
        "bleurt_ba =  calc_bleurt(candidate_baidu, \"Baidu\")\n",
        "bleurt_gpt4 =  calc_bleurt(candidate_gpt4, \"GPT4\")\n",
        "bleurt_lm2 =  calc_bleurt(candidate_llama2, \"Llama2\")\n",
        "bleurt_glm4 =  calc_bleurt(candidate_glm4, \"GLM4\")"
      ],
      "metadata": {
        "id": "cU9MHe0YLgwH",
        "colab": {
          "base_uri": "https://localhost:8080/"
        },
        "outputId": "082feea5-fb4b-49f5-a65f-7cafc071c0a0"
      },
      "execution_count": 20,
      "outputs": [
        {
          "output_type": "stream",
          "name": "stdout",
          "text": [
            "Google Translation [-0.18909625709056854, -0.8262679576873779, -0.14503978192806244, -0.5807582139968872, -0.5652949810028076, -0.5385828018188477, -0.4911075234413147, -0.32188838720321655, -0.804314374923706, -0.8686525821685791, -0.12523703277111053, -0.8310582637786865, -0.3048216700553894, 0.1038043424487114, -0.23322956264019012, -0.45193326473236084, -0.5134034156799316, -0.28933078050613403, -0.2738065719604492, -0.374009370803833, -0.40291714668273926, -0.897724986076355, -0.8778033256530762, -0.4282880425453186, -0.4477599859237671, 0.23149269819259644, -0.3431444764137268, -0.19968996942043304, -0.1441335529088974, -0.5466258525848389, -1.0867843627929688, -0.1640927642583847, -0.7895259857177734, -0.6403613686561584, -0.6554248929023743, -0.5994565486907959, -0.4474782347679138, 0.0022304803133010864, -0.31393301486968994, -0.8257998824119568, -0.34584516286849976, 0.00839465856552124, -1.1067403554916382, -0.8610000610351562, -0.16867469251155853, -0.17038004100322723, -0.14603017270565033, -0.7175958156585693, -0.3480701446533203, -0.18543456494808197, -0.3768988847732544, -0.8316563963890076, -0.8792368173599243, -0.7438703775405884, -0.596969723701477, -0.34869760274887085, -0.761498749256134, -0.8612614870071411, -0.6453865766525269, -0.9039007425308228, -0.8102959990501404, 0.06269554793834686, -0.20631711184978485, -0.23758618533611298, -0.5365705490112305, -0.8237366676330566, -0.22512926161289215, -0.13802535831928253, -0.831060528755188, -0.6438007354736328, 0.09207646548748016, -0.14651910960674286, -0.18330155313014984, -0.012386351823806763, -0.6806702613830566, -0.2764778137207031, -0.8645288944244385, -0.2973117232322693, -0.8018240928649902, -0.19028045237064362, 0.05170436203479767, -1.132818579673767, -0.4672970771789551, -0.8709887266159058, -0.7077732086181641, -1.0004215240478516, -0.587066650390625, -0.086784228682518, -0.5376628637313843, -0.6473079919815063, -0.7991327047348022, -0.41768860816955566, -0.7951997518539429, -0.5410886406898499, -0.32965195178985596, -0.12657831609249115, -0.6852407455444336, -0.6635470390319824, 0.1785547137260437, -0.40997737646102905]\n",
            "Microsoft [-0.49136608839035034, -0.6169991493225098, -0.0959988683462143, -0.6331512928009033, -0.612352192401886, -0.6834619045257568, -0.47143518924713135, -0.3249163031578064, -1.0053797960281372, -1.0367281436920166, -0.01764322817325592, -1.0107601881027222, -0.1515556126832962, -0.08956815302371979, -0.2632197141647339, -0.03136439621448517, -0.5406728386878967, -0.09551192820072174, -0.46751946210861206, -0.4478524327278137, -0.5461726784706116, -0.7853267192840576, -0.8339846134185791, -0.4739203453063965, -0.7069342136383057, -0.07460917532444, -0.568897545337677, -0.1180778294801712, -0.020673617720603943, -0.7801519632339478, -0.9705077409744263, -0.216453418135643, -0.8074058890342712, -0.6973639130592346, -0.8725411891937256, -0.7365385293960571, -0.3465718626976013, -0.17000584304332733, -0.4663972854614258, -0.8718934059143066, -0.9203804731369019, 0.02348487079143524, -1.1202447414398193, -1.0562736988067627, -0.2014666646718979, -0.10871709883213043, -0.3143883943557739, -0.6720919609069824, -0.0797789990901947, -0.29770785570144653, -0.4601675271987915, -0.9238364696502686, -1.0565221309661865, -0.5456727743148804, -0.6453697085380554, -0.6539148092269897, -0.7946087718009949, -0.8339358568191528, -0.6218085289001465, -0.7568427324295044, -0.7830510139465332, -0.0922635942697525, -0.15716443955898285, -0.3707975745201111, -0.5119896531105042, -0.7536001205444336, -0.2987172603607178, -0.7618606090545654, -0.6243507862091064, -0.8284907341003418, 0.09529703855514526, -0.5228152275085449, -0.4623870253562927, 0.06450751423835754, -0.719565749168396, -0.29324156045913696, -1.081212043762207, -0.5577133893966675, -0.8425368666648865, -0.2127532809972763, -0.5979961156845093, -1.0918458700180054, -0.6922794580459595, -0.8706713914871216, -0.8709944486618042, -1.089111328125, -0.5809270143508911, 0.04725046455860138, -0.7910999655723572, -0.8940560817718506, -0.9994049072265625, -0.772977352142334, -0.9383381605148315, -0.7649826407432556, -0.3165733218193054, -0.4310692548751831, -0.6382930278778076, -0.6635470390319824, -0.5696815848350525, -0.2999553680419922]\n",
            "DeepL [-0.7909924983978271, -0.6828814744949341, -0.07305078208446503, -0.7521101832389832, -0.4415825605392456, -0.9070196151733398, -0.7615113258361816, -0.5376074910163879, -0.9700615406036377, -1.0402226448059082, -0.1580483466386795, -0.9092915058135986, -0.232798770070076, -0.2753216028213501, -0.2665858268737793, -0.1726362258195877, -0.7018311023712158, -0.026429519057273865, -0.3355446457862854, -0.7418487668037415, -0.7250016927719116, -1.0068905353546143, -0.6046848893165588, -0.4527236819267273, -0.6688697338104248, -0.5379785299301147, -0.5244207382202148, -0.2630789875984192, -0.17095397412776947, -0.8180831670761108, -1.148841142654419, -0.22063831984996796, -0.724970817565918, -0.7360730171203613, -0.5121633410453796, -0.6848127245903015, -0.5629119873046875, -0.09634149074554443, -0.5467141270637512, -0.7465303540229797, -0.677367091178894, -0.2529976963996887, -1.1162980794906616, -1.1315762996673584, -0.15120737254619598, -0.06904490292072296, -0.8398695588111877, -0.6948005557060242, -0.03885200619697571, -0.467470645904541, -0.6382167339324951, -0.8813686370849609, -1.0005804300308228, -0.6626709699630737, -0.5517685413360596, -0.5145840644836426, -0.8672847747802734, -0.8799271583557129, -0.5723748207092285, -0.781740665435791, -0.6214714646339417, 0.03498043119907379, -0.30527567863464355, -0.8355855941772461, -0.3389269709587097, -0.8299292922019958, -0.267200767993927, 0.0023022741079330444, -1.262439489364624, -0.8397952318191528, 0.10618125647306442, -0.6427696943283081, -0.7219667434692383, -0.11047308146953583, -0.7740634083747864, -0.6800846457481384, -0.8812403678894043, -0.7072099447250366, -0.9904961585998535, -0.2127532809972763, 0.02735339105129242, -1.149427056312561, -0.6708162426948547, -0.9043465852737427, -0.1547090858221054, -1.0520362854003906, -0.3457610607147217, -0.11789454519748688, -0.5429967641830444, -1.2494088411331177, -0.8339859843254089, -0.6943888068199158, -0.6904506683349609, -0.42262959480285645, -0.32810908555984497, -0.13673536479473114, -0.9960402250289917, -0.5814265012741089, -0.2410837858915329, -0.4577396512031555]\n",
            "Niu Trans [-0.3987796902656555, -0.8613641262054443, 0.013366937637329102, -0.4693242907524109, -0.5298089385032654, -0.7044923901557922, -0.46574652194976807, -0.2663394808769226, -0.9098014831542969, -0.9930826425552368, -0.2560471296310425, -0.9437413215637207, -0.44163334369659424, -0.059473201632499695, -0.2977890372276306, -0.06946544349193573, -0.43781065940856934, -0.09551192820072174, -0.6071487665176392, -0.5535978078842163, -0.43594151735305786, -0.7931815981864929, -0.7674865126609802, -0.32104557752609253, -0.5771107077598572, 0.17233246564865112, -0.39839887619018555, -0.13948549330234528, -0.14031417667865753, -0.7739558219909668, -1.0437195301055908, -0.0650450736284256, -0.8973475694656372, -0.5947895050048828, -0.8768706321716309, -0.7576146721839905, -0.38980430364608765, -0.13007740676403046, -0.4957932233810425, -0.826282262802124, -0.4397832751274109, -0.2192619889974594, -1.0997611284255981, -0.9451726675033569, -0.5554813742637634, 0.034962281584739685, 0.04343670606613159, -0.7165305614471436, -0.1537032276391983, -0.6148672103881836, -0.4573637843132019, -0.6820454597473145, -0.7016042470932007, -0.8054084181785583, -0.643073320388794, -0.44827234745025635, -0.8965789079666138, -0.8826539516448975, -0.7411624193191528, -0.7663424015045166, -0.7677853107452393, -0.1253480166196823, -0.2642531394958496, -0.31544703245162964, 0.2357458472251892, -0.9144319295883179, -0.4047650098800659, -0.5640732645988464, -0.7893757820129395, -0.6706333160400391, 0.007875248789787292, -0.36980223655700684, -0.05834400653839111, 0.045178353786468506, -0.8266432881355286, -0.32977014780044556, -1.0071589946746826, -0.23710261285305023, -0.7062357068061829, -0.19028045237064362, -0.3748047351837158, -1.2127714157104492, -0.6499544978141785, -0.8703515529632568, -0.676616370677948, -1.088515281677246, -0.31318068504333496, 0.060282111167907715, -0.5404173731803894, -0.7481531500816345, -0.8749446868896484, -0.6892906427383423, -0.6776946783065796, -0.3904586434364319, -0.3541777729988098, -0.20303307473659515, -0.5404897928237915, -0.4608722925186157, -0.10936532914638519, -0.25062716007232666]\n",
            "Volcano Trans [-0.2639385461807251, -0.5804032683372498, -0.14193736016750336, -0.906879186630249, -0.5617280006408691, -0.955155611038208, -0.5928651094436646, -0.3520749807357788, -1.1218634843826294, -1.0607430934906006, -0.1294255405664444, -1.1128913164138794, -0.40533554553985596, -0.022167488932609558, -0.1633063703775406, -0.32457494735717773, -0.5666266679763794, -0.17645211517810822, -0.4424739480018616, -0.5283637642860413, -0.5010956525802612, -0.8511533737182617, -0.7990747690200806, -0.5455359816551208, -0.6884323954582214, 0.23149269819259644, -0.4456770420074463, -0.1180778294801712, -0.08334313333034515, -0.8047840595245361, -1.0988770723342896, 0.1653369963169098, -0.75396728515625, -0.6056459546089172, -0.7659878134727478, -0.8238985538482666, -0.4761407971382141, 0.027906060218811035, -0.36856794357299805, -0.548539400100708, -0.5632468461990356, 0.058750733733177185, -1.0450413227081299, -1.017169713973999, -0.4126995801925659, -0.09467406570911407, -0.6793358325958252, -0.7014772891998291, -0.2499263733625412, -0.45714426040649414, -0.6361202597618103, -0.7047173976898193, -1.0441908836364746, -0.8497492074966431, -0.671493649482727, -0.3820767402648926, -0.8116837739944458, -0.8961408138275146, -0.6087052822113037, -0.8616669178009033, -0.7454306483268738, -0.17309899628162384, -0.28053170442581177, -0.7195958495140076, 0.0009494125843048096, -1.0593628883361816, -0.2987172603607178, -0.13290657103061676, -0.8555557727813721, -0.7080711126327515, 0.07581369578838348, -0.3551669120788574, -0.35700559616088867, -0.02404673397541046, -0.7509937286376953, -0.3746873140335083, -1.0161272287368774, -0.44368892908096313, -0.7871459126472473, -0.1790338009595871, -0.6438398361206055, -1.132148265838623, -0.5601393580436707, -0.792411744594574, -0.6870107054710388, -0.9871556758880615, -0.44800853729248047, -0.15253309905529022, -0.4480326771736145, -0.9410463571548462, -0.7376353740692139, -0.6029770374298096, -0.734325647354126, -0.3004648685455322, -0.4919189214706421, -0.08498908579349518, -0.7704294919967651, -0.691510796546936, -0.32787376642227173, -0.24055074155330658]\n",
            "Baidu [-0.8648040294647217, -0.3366541862487793, -0.05114312469959259, -0.5758286118507385, -0.4880167841911316, -0.7058484554290771, -0.34412115812301636, -0.32563579082489014, -0.5305189490318298, -0.8958961963653564, -0.34116095304489136, -0.7975280284881592, -0.19108210504055023, -0.12749211490154266, -0.2878054976463318, -0.1589161604642868, -0.4470595121383667, -0.24797742068767548, -0.3982936143875122, -0.5624024271965027, -0.8128119111061096, -0.8468195199966431, -0.8223311901092529, -0.39676690101623535, -0.6929891109466553, 0.20760348439216614, -0.5145874619483948, -0.06797154247760773, -0.03408186137676239, -0.68209308385849, -0.873999834060669, 0.16453391313552856, -0.7344167828559875, -0.550686240196228, -0.6115783452987671, -0.7955536246299744, -0.6026800274848938, -0.05426594614982605, -0.5990782976150513, -0.8940227031707764, -0.8789706230163574, -0.010746046900749207, -1.018599271774292, -1.0190247297286987, -0.05807749927043915, 0.30093079805374146, -0.7211184501647949, -0.6476764678955078, 0.0825267881155014, -0.5559577345848083, -0.1408691555261612, -0.7728890180587769, -0.9737095832824707, -0.8541457653045654, -0.6706250905990601, -0.5701125264167786, -0.6015428304672241, -0.9015821218490601, -0.4512975215911865, -0.7874379754066467, -0.7101185321807861, -0.26141154766082764, -0.20602677762508392, -0.0817926824092865, 0.14982293546199799, -0.7677604556083679, -0.2987172603607178, -0.8619093894958496, -0.745858371257782, -0.5253686904907227, 0.12234535813331604, -0.37732815742492676, -0.1472252458333969, 0.017160609364509583, -0.7375569343566895, -0.4963268041610718, -1.0462679862976074, -0.23693154752254486, -0.7887179851531982, -0.3135812282562256, -0.3384040594100952, -1.1923924684524536, -0.8049545288085938, -0.8367471098899841, -0.7813594341278076, -1.0247681140899658, -0.45650988817214966, -0.11842431128025055, -0.6319243311882019, -0.9541617631912231, -0.869320273399353, -0.10700716078281403, -0.5967106819152832, -0.8844754695892334, -0.17569731175899506, -0.47779595851898193, -0.794387936592102, -0.6587154865264893, -0.0014942288398742676, -0.4466460943222046]\n",
            "GPT4 [-0.34359925985336304, -0.867725133895874, -0.12075243890285492, -0.6549562811851501, -0.16795222461223602, -0.5054993629455566, -0.21868298947811127, -0.3231668472290039, -0.560285210609436, -0.8950902223587036, -0.1770789474248886, -0.711546778678894, -0.18073098361492157, 0.021689340472221375, -0.5146996974945068, 0.07007865607738495, -0.6091530323028564, -0.4038347601890564, -0.27237367630004883, -0.573151707649231, -0.9750216007232666, -0.7609421014785767, -0.4920238256454468, -0.36461877822875977, -0.5819077491760254, 0.20864436030387878, -0.31930291652679443, 0.2004459947347641, -0.16061510145664215, -0.6221875548362732, -0.930419921875, -0.2344176322221756, -0.3657281994819641, -0.6063245534896851, -0.3635622262954712, -0.6086418628692627, -0.31977903842926025, -0.022977009415626526, -0.1554228812456131, -0.10738469660282135, -0.7373877763748169, 0.11832402646541595, -1.1408486366271973, -1.1390318870544434, -0.1588837057352066, 0.04712943732738495, -0.6419277787208557, -0.8141865134239197, -0.02159978449344635, -0.2664058804512024, -0.13385091722011566, -0.5366506576538086, -0.8642306327819824, -0.1870584934949875, -0.5309511423110962, -0.41226810216903687, -0.6767239570617676, -0.8071687817573547, -0.6215112209320068, -0.652692973613739, -0.9672644138336182, -0.1081828624010086, -0.1758848875761032, -0.030156388878822327, -0.4368918538093567, -0.6842788457870483, -0.18180795013904572, -0.7980985641479492, -0.8371162414550781, -0.5400443077087402, 0.07473628222942352, -0.147589311003685, -0.18155471980571747, -0.1090451329946518, -0.5906384587287903, -0.43245142698287964, -0.8347364068031311, -0.1016821414232254, -0.7956318855285645, -0.1945776492357254, -0.3895164728164673, -1.1618494987487793, -0.7147352695465088, -0.943893313407898, -0.637505292892456, -0.9148801565170288, -0.3867584466934204, -0.29672539234161377, -0.8525727987289429, -0.02442900836467743, -0.7034547328948975, 0.18380562961101532, -0.5717034339904785, -0.692297637462616, -0.3011453151702881, -0.26102596521377563, -0.7118605375289917, -0.533387303352356, -0.2871507406234741, -0.3957381248474121]\n",
            "Llama2 [-0.34420251846313477, -0.6419463753700256, -0.0777805894613266, -0.4685732126235962, -0.486305832862854, -0.7556459903717041, -0.7138341665267944, -0.16824932396411896, -0.7640033960342407, -0.7413648366928101, -0.0919482409954071, -1.0241358280181885, -0.17675457894802094, -0.19319890439510345, -0.7529754638671875, -0.17432786524295807, -1.0547274351119995, -0.12958316504955292, -0.8471720814704895, -0.7582825422286987, -0.6571181416511536, -0.8901963233947754, -1.1507025957107544, -0.8804969787597656, -0.8194960355758667, 0.0470750629901886, -0.6649667024612427, -0.11174730956554413, -0.1610262542963028, -0.6335765719413757, -0.988688588142395, -0.7840093374252319, -0.7273814678192139, -0.8704971075057983, -0.9101579189300537, -0.490151047706604, -0.8849830627441406, -0.7348609566688538, -0.5186061859130859, -0.9699430465698242, -0.6673243045806885, -0.02426399290561676, -0.7639412879943848, -0.7977122664451599, -0.5736402273178101, -0.957449197769165, 0.8938038349151611, -0.9168407917022705, -0.3441433906555176, -0.3695988059043884, -0.5710176825523376, -0.656282901763916, -0.9563226699829102, -0.9203344583511353, -0.5494837760925293, -0.13642363250255585, -0.7469843626022339, -0.7271672487258911, -0.6725878715515137, -0.7075902223587036, -0.7377147674560547, -0.7212326526641846, -0.6664740443229675, -0.550449013710022, -0.20230214297771454, -0.9677456617355347, -0.42359256744384766, -1.157968282699585, -0.6784763336181641, -0.6656625270843506, -0.05228891968727112, -0.5067381858825684, -0.36283838748931885, -0.5164592862129211, -0.7843493223190308, -0.2431958168745041, -0.9029794931411743, -0.7674105167388916, -0.7044174075126648, -0.04440239071846008, -0.39462554454803467, -1.100631594657898, -0.5984228849411011, -1.0384259223937988, -0.739639937877655, -1.0226212739944458, -0.6198516488075256, -0.4647953510284424, -0.48431020975112915, -0.9946558475494385, -0.9051930904388428, -0.741710901260376, -1.0427064895629883, -0.8898019790649414, -0.3185591697692871, -0.36405694484710693, -0.7352423071861267, -0.4866548180580139, -0.6674827337265015, -0.6653415560722351]\n",
            "GLM4 [-0.3000175356864929, -0.3417033553123474, -0.17671100795269012, -0.33682239055633545, -0.12968240678310394, -0.6540887355804443, -0.18835745751857758, -0.20543862879276276, -0.5956095457077026, -0.7299754619598389, -0.3691704273223877, -0.7074071168899536, 0.030095025897026062, -0.15658210217952728, -0.6430913805961609, 0.0074743181467056274, -0.8066552877426147, 0.04899761080741882, -0.4690771698951721, -0.11244796216487885, -0.5453463792800903, -0.5858780145645142, -0.19466860592365265, -0.2511913776397705, -0.5582901239395142, 0.22787606716156006, -0.4462417960166931, 0.11469443142414093, -0.06910118460655212, -0.29514116048812866, -1.0296012163162231, -0.09146703779697418, -0.636555016040802, -0.7511518597602844, -0.18364940583705902, -0.7176063060760498, -0.25537168979644775, 0.014287561178207397, -0.32518476247787476, -0.9327285289764404, -0.4774569272994995, 0.18280747532844543, -1.148051142692566, -1.1956707239151, -0.1315770000219345, 0.06018249690532684, 0.16825762391090393, -0.5990719199180603, 0.028399109840393066, -0.35130810737609863, -0.3962770700454712, -0.5027303695678711, -0.7562826871871948, -0.6580768823623657, -0.5504776239395142, -0.35611408948898315, -0.6744115352630615, -0.626862108707428, -0.7128455638885498, -0.7531270980834961, -0.5211825370788574, -0.27757638692855835, -0.5100905895233154, -0.7700597047805786, -0.3548421859741211, -0.2038552612066269, -0.17389456927776337, -0.9017651081085205, -0.9191806316375732, -0.5277232527732849, 0.18384552001953125, -0.33241915702819824, -0.2670983672142029, -0.22461242973804474, -0.7306492328643799, -0.32531827688217163, -0.49109041690826416, 0.04788739234209061, -0.7516763210296631, -0.2977604269981384, -0.4820789098739624, -1.0963637828826904, -0.5066738128662109, -0.9364950656890869, -0.5468239784240723, -1.1358574628829956, -0.5045275092124939, -0.4137842655181885, -0.5254089832305908, -0.5952798128128052, -0.5637236833572388, -0.2693236470222473, -0.7304010391235352, -0.10917161405086517, -0.28551405668258667, -0.14828316867351532, -0.8242724537849426, -0.7216649055480957, -0.32021403312683105, -0.22948752343654633]\n"
          ]
        }
      ]
    },
    {
      "cell_type": "code",
      "source": [
        "dict = {'GoogleTrans': bleurt_gt, 'Microsoft': bleurt_ms, 'DeepL': bleurt_dl, 'GPT4': bleurt_gpt4, 'Llama2': bleurt_lm2, 'GLM4': bleurt_glm4, 'NiuTrans': bleurt_nt, 'VolcTrans': bleurt_vt, 'Baidu': bleurt_ba}\n",
        "df = pd.DataFrame(dict)"
      ],
      "metadata": {
        "id": "B6_GXWJMQUgl"
      },
      "execution_count": 21,
      "outputs": []
    },
    {
      "cell_type": "code",
      "source": [
        "df"
      ],
      "metadata": {
        "colab": {
          "base_uri": "https://localhost:8080/",
          "height": 423
        },
        "id": "ANEgeR9yEOi6",
        "outputId": "be602286-2edd-4d89-fe76-c1b1585f1325"
      },
      "execution_count": 22,
      "outputs": [
        {
          "output_type": "execute_result",
          "data": {
            "text/plain": [
              "    GoogleTrans  Microsoft     DeepL      GPT4    Llama2      GLM4  NiuTrans  \\\n",
              "0     -0.189096  -0.491366 -0.790992 -0.343599 -0.344203 -0.300018 -0.398780   \n",
              "1     -0.826268  -0.616999 -0.682881 -0.867725 -0.641946 -0.341703 -0.861364   \n",
              "2     -0.145040  -0.095999 -0.073051 -0.120752 -0.077781 -0.176711  0.013367   \n",
              "3     -0.580758  -0.633151 -0.752110 -0.654956 -0.468573 -0.336822 -0.469324   \n",
              "4     -0.565295  -0.612352 -0.441583 -0.167952 -0.486306 -0.129682 -0.529809   \n",
              "..          ...        ...       ...       ...       ...       ...       ...   \n",
              "95    -0.126578  -0.431069 -0.136735 -0.261026 -0.364057 -0.148283 -0.203033   \n",
              "96    -0.685241  -0.638293 -0.996040 -0.711861 -0.735242 -0.824272 -0.540490   \n",
              "97    -0.663547  -0.663547 -0.581427 -0.533387 -0.486655 -0.721665 -0.460872   \n",
              "98     0.178555  -0.569682 -0.241084 -0.287151 -0.667483 -0.320214 -0.109365   \n",
              "99    -0.409977  -0.299955 -0.457740 -0.395738 -0.665342 -0.229488 -0.250627   \n",
              "\n",
              "    VolcTrans     Baidu  \n",
              "0   -0.263939 -0.864804  \n",
              "1   -0.580403 -0.336654  \n",
              "2   -0.141937 -0.051143  \n",
              "3   -0.906879 -0.575829  \n",
              "4   -0.561728 -0.488017  \n",
              "..        ...       ...  \n",
              "95  -0.084989 -0.477796  \n",
              "96  -0.770429 -0.794388  \n",
              "97  -0.691511 -0.658715  \n",
              "98  -0.327874 -0.001494  \n",
              "99  -0.240551 -0.446646  \n",
              "\n",
              "[100 rows x 9 columns]"
            ],
            "text/html": [
              "\n",
              "  <div id=\"df-724f7472-05ee-46b4-996a-dc0e2ef32e59\" class=\"colab-df-container\">\n",
              "    <div>\n",
              "<style scoped>\n",
              "    .dataframe tbody tr th:only-of-type {\n",
              "        vertical-align: middle;\n",
              "    }\n",
              "\n",
              "    .dataframe tbody tr th {\n",
              "        vertical-align: top;\n",
              "    }\n",
              "\n",
              "    .dataframe thead th {\n",
              "        text-align: right;\n",
              "    }\n",
              "</style>\n",
              "<table border=\"1\" class=\"dataframe\">\n",
              "  <thead>\n",
              "    <tr style=\"text-align: right;\">\n",
              "      <th></th>\n",
              "      <th>GoogleTrans</th>\n",
              "      <th>Microsoft</th>\n",
              "      <th>DeepL</th>\n",
              "      <th>GPT4</th>\n",
              "      <th>Llama2</th>\n",
              "      <th>GLM4</th>\n",
              "      <th>NiuTrans</th>\n",
              "      <th>VolcTrans</th>\n",
              "      <th>Baidu</th>\n",
              "    </tr>\n",
              "  </thead>\n",
              "  <tbody>\n",
              "    <tr>\n",
              "      <th>0</th>\n",
              "      <td>-0.189096</td>\n",
              "      <td>-0.491366</td>\n",
              "      <td>-0.790992</td>\n",
              "      <td>-0.343599</td>\n",
              "      <td>-0.344203</td>\n",
              "      <td>-0.300018</td>\n",
              "      <td>-0.398780</td>\n",
              "      <td>-0.263939</td>\n",
              "      <td>-0.864804</td>\n",
              "    </tr>\n",
              "    <tr>\n",
              "      <th>1</th>\n",
              "      <td>-0.826268</td>\n",
              "      <td>-0.616999</td>\n",
              "      <td>-0.682881</td>\n",
              "      <td>-0.867725</td>\n",
              "      <td>-0.641946</td>\n",
              "      <td>-0.341703</td>\n",
              "      <td>-0.861364</td>\n",
              "      <td>-0.580403</td>\n",
              "      <td>-0.336654</td>\n",
              "    </tr>\n",
              "    <tr>\n",
              "      <th>2</th>\n",
              "      <td>-0.145040</td>\n",
              "      <td>-0.095999</td>\n",
              "      <td>-0.073051</td>\n",
              "      <td>-0.120752</td>\n",
              "      <td>-0.077781</td>\n",
              "      <td>-0.176711</td>\n",
              "      <td>0.013367</td>\n",
              "      <td>-0.141937</td>\n",
              "      <td>-0.051143</td>\n",
              "    </tr>\n",
              "    <tr>\n",
              "      <th>3</th>\n",
              "      <td>-0.580758</td>\n",
              "      <td>-0.633151</td>\n",
              "      <td>-0.752110</td>\n",
              "      <td>-0.654956</td>\n",
              "      <td>-0.468573</td>\n",
              "      <td>-0.336822</td>\n",
              "      <td>-0.469324</td>\n",
              "      <td>-0.906879</td>\n",
              "      <td>-0.575829</td>\n",
              "    </tr>\n",
              "    <tr>\n",
              "      <th>4</th>\n",
              "      <td>-0.565295</td>\n",
              "      <td>-0.612352</td>\n",
              "      <td>-0.441583</td>\n",
              "      <td>-0.167952</td>\n",
              "      <td>-0.486306</td>\n",
              "      <td>-0.129682</td>\n",
              "      <td>-0.529809</td>\n",
              "      <td>-0.561728</td>\n",
              "      <td>-0.488017</td>\n",
              "    </tr>\n",
              "    <tr>\n",
              "      <th>...</th>\n",
              "      <td>...</td>\n",
              "      <td>...</td>\n",
              "      <td>...</td>\n",
              "      <td>...</td>\n",
              "      <td>...</td>\n",
              "      <td>...</td>\n",
              "      <td>...</td>\n",
              "      <td>...</td>\n",
              "      <td>...</td>\n",
              "    </tr>\n",
              "    <tr>\n",
              "      <th>95</th>\n",
              "      <td>-0.126578</td>\n",
              "      <td>-0.431069</td>\n",
              "      <td>-0.136735</td>\n",
              "      <td>-0.261026</td>\n",
              "      <td>-0.364057</td>\n",
              "      <td>-0.148283</td>\n",
              "      <td>-0.203033</td>\n",
              "      <td>-0.084989</td>\n",
              "      <td>-0.477796</td>\n",
              "    </tr>\n",
              "    <tr>\n",
              "      <th>96</th>\n",
              "      <td>-0.685241</td>\n",
              "      <td>-0.638293</td>\n",
              "      <td>-0.996040</td>\n",
              "      <td>-0.711861</td>\n",
              "      <td>-0.735242</td>\n",
              "      <td>-0.824272</td>\n",
              "      <td>-0.540490</td>\n",
              "      <td>-0.770429</td>\n",
              "      <td>-0.794388</td>\n",
              "    </tr>\n",
              "    <tr>\n",
              "      <th>97</th>\n",
              "      <td>-0.663547</td>\n",
              "      <td>-0.663547</td>\n",
              "      <td>-0.581427</td>\n",
              "      <td>-0.533387</td>\n",
              "      <td>-0.486655</td>\n",
              "      <td>-0.721665</td>\n",
              "      <td>-0.460872</td>\n",
              "      <td>-0.691511</td>\n",
              "      <td>-0.658715</td>\n",
              "    </tr>\n",
              "    <tr>\n",
              "      <th>98</th>\n",
              "      <td>0.178555</td>\n",
              "      <td>-0.569682</td>\n",
              "      <td>-0.241084</td>\n",
              "      <td>-0.287151</td>\n",
              "      <td>-0.667483</td>\n",
              "      <td>-0.320214</td>\n",
              "      <td>-0.109365</td>\n",
              "      <td>-0.327874</td>\n",
              "      <td>-0.001494</td>\n",
              "    </tr>\n",
              "    <tr>\n",
              "      <th>99</th>\n",
              "      <td>-0.409977</td>\n",
              "      <td>-0.299955</td>\n",
              "      <td>-0.457740</td>\n",
              "      <td>-0.395738</td>\n",
              "      <td>-0.665342</td>\n",
              "      <td>-0.229488</td>\n",
              "      <td>-0.250627</td>\n",
              "      <td>-0.240551</td>\n",
              "      <td>-0.446646</td>\n",
              "    </tr>\n",
              "  </tbody>\n",
              "</table>\n",
              "<p>100 rows × 9 columns</p>\n",
              "</div>\n",
              "    <div class=\"colab-df-buttons\">\n",
              "\n",
              "  <div class=\"colab-df-container\">\n",
              "    <button class=\"colab-df-convert\" onclick=\"convertToInteractive('df-724f7472-05ee-46b4-996a-dc0e2ef32e59')\"\n",
              "            title=\"Convert this dataframe to an interactive table.\"\n",
              "            style=\"display:none;\">\n",
              "\n",
              "  <svg xmlns=\"http://www.w3.org/2000/svg\" height=\"24px\" viewBox=\"0 -960 960 960\">\n",
              "    <path d=\"M120-120v-720h720v720H120Zm60-500h600v-160H180v160Zm220 220h160v-160H400v160Zm0 220h160v-160H400v160ZM180-400h160v-160H180v160Zm440 0h160v-160H620v160ZM180-180h160v-160H180v160Zm440 0h160v-160H620v160Z\"/>\n",
              "  </svg>\n",
              "    </button>\n",
              "\n",
              "  <style>\n",
              "    .colab-df-container {\n",
              "      display:flex;\n",
              "      gap: 12px;\n",
              "    }\n",
              "\n",
              "    .colab-df-convert {\n",
              "      background-color: #E8F0FE;\n",
              "      border: none;\n",
              "      border-radius: 50%;\n",
              "      cursor: pointer;\n",
              "      display: none;\n",
              "      fill: #1967D2;\n",
              "      height: 32px;\n",
              "      padding: 0 0 0 0;\n",
              "      width: 32px;\n",
              "    }\n",
              "\n",
              "    .colab-df-convert:hover {\n",
              "      background-color: #E2EBFA;\n",
              "      box-shadow: 0px 1px 2px rgba(60, 64, 67, 0.3), 0px 1px 3px 1px rgba(60, 64, 67, 0.15);\n",
              "      fill: #174EA6;\n",
              "    }\n",
              "\n",
              "    .colab-df-buttons div {\n",
              "      margin-bottom: 4px;\n",
              "    }\n",
              "\n",
              "    [theme=dark] .colab-df-convert {\n",
              "      background-color: #3B4455;\n",
              "      fill: #D2E3FC;\n",
              "    }\n",
              "\n",
              "    [theme=dark] .colab-df-convert:hover {\n",
              "      background-color: #434B5C;\n",
              "      box-shadow: 0px 1px 3px 1px rgba(0, 0, 0, 0.15);\n",
              "      filter: drop-shadow(0px 1px 2px rgba(0, 0, 0, 0.3));\n",
              "      fill: #FFFFFF;\n",
              "    }\n",
              "  </style>\n",
              "\n",
              "    <script>\n",
              "      const buttonEl =\n",
              "        document.querySelector('#df-724f7472-05ee-46b4-996a-dc0e2ef32e59 button.colab-df-convert');\n",
              "      buttonEl.style.display =\n",
              "        google.colab.kernel.accessAllowed ? 'block' : 'none';\n",
              "\n",
              "      async function convertToInteractive(key) {\n",
              "        const element = document.querySelector('#df-724f7472-05ee-46b4-996a-dc0e2ef32e59');\n",
              "        const dataTable =\n",
              "          await google.colab.kernel.invokeFunction('convertToInteractive',\n",
              "                                                    [key], {});\n",
              "        if (!dataTable) return;\n",
              "\n",
              "        const docLinkHtml = 'Like what you see? Visit the ' +\n",
              "          '<a target=\"_blank\" href=https://colab.research.google.com/notebooks/data_table.ipynb>data table notebook</a>'\n",
              "          + ' to learn more about interactive tables.';\n",
              "        element.innerHTML = '';\n",
              "        dataTable['output_type'] = 'display_data';\n",
              "        await google.colab.output.renderOutput(dataTable, element);\n",
              "        const docLink = document.createElement('div');\n",
              "        docLink.innerHTML = docLinkHtml;\n",
              "        element.appendChild(docLink);\n",
              "      }\n",
              "    </script>\n",
              "  </div>\n",
              "\n",
              "\n",
              "<div id=\"df-88c0423f-c40d-4e52-b857-93f2146101ef\">\n",
              "  <button class=\"colab-df-quickchart\" onclick=\"quickchart('df-88c0423f-c40d-4e52-b857-93f2146101ef')\"\n",
              "            title=\"Suggest charts\"\n",
              "            style=\"display:none;\">\n",
              "\n",
              "<svg xmlns=\"http://www.w3.org/2000/svg\" height=\"24px\"viewBox=\"0 0 24 24\"\n",
              "     width=\"24px\">\n",
              "    <g>\n",
              "        <path d=\"M19 3H5c-1.1 0-2 .9-2 2v14c0 1.1.9 2 2 2h14c1.1 0 2-.9 2-2V5c0-1.1-.9-2-2-2zM9 17H7v-7h2v7zm4 0h-2V7h2v10zm4 0h-2v-4h2v4z\"/>\n",
              "    </g>\n",
              "</svg>\n",
              "  </button>\n",
              "\n",
              "<style>\n",
              "  .colab-df-quickchart {\n",
              "      --bg-color: #E8F0FE;\n",
              "      --fill-color: #1967D2;\n",
              "      --hover-bg-color: #E2EBFA;\n",
              "      --hover-fill-color: #174EA6;\n",
              "      --disabled-fill-color: #AAA;\n",
              "      --disabled-bg-color: #DDD;\n",
              "  }\n",
              "\n",
              "  [theme=dark] .colab-df-quickchart {\n",
              "      --bg-color: #3B4455;\n",
              "      --fill-color: #D2E3FC;\n",
              "      --hover-bg-color: #434B5C;\n",
              "      --hover-fill-color: #FFFFFF;\n",
              "      --disabled-bg-color: #3B4455;\n",
              "      --disabled-fill-color: #666;\n",
              "  }\n",
              "\n",
              "  .colab-df-quickchart {\n",
              "    background-color: var(--bg-color);\n",
              "    border: none;\n",
              "    border-radius: 50%;\n",
              "    cursor: pointer;\n",
              "    display: none;\n",
              "    fill: var(--fill-color);\n",
              "    height: 32px;\n",
              "    padding: 0;\n",
              "    width: 32px;\n",
              "  }\n",
              "\n",
              "  .colab-df-quickchart:hover {\n",
              "    background-color: var(--hover-bg-color);\n",
              "    box-shadow: 0 1px 2px rgba(60, 64, 67, 0.3), 0 1px 3px 1px rgba(60, 64, 67, 0.15);\n",
              "    fill: var(--button-hover-fill-color);\n",
              "  }\n",
              "\n",
              "  .colab-df-quickchart-complete:disabled,\n",
              "  .colab-df-quickchart-complete:disabled:hover {\n",
              "    background-color: var(--disabled-bg-color);\n",
              "    fill: var(--disabled-fill-color);\n",
              "    box-shadow: none;\n",
              "  }\n",
              "\n",
              "  .colab-df-spinner {\n",
              "    border: 2px solid var(--fill-color);\n",
              "    border-color: transparent;\n",
              "    border-bottom-color: var(--fill-color);\n",
              "    animation:\n",
              "      spin 1s steps(1) infinite;\n",
              "  }\n",
              "\n",
              "  @keyframes spin {\n",
              "    0% {\n",
              "      border-color: transparent;\n",
              "      border-bottom-color: var(--fill-color);\n",
              "      border-left-color: var(--fill-color);\n",
              "    }\n",
              "    20% {\n",
              "      border-color: transparent;\n",
              "      border-left-color: var(--fill-color);\n",
              "      border-top-color: var(--fill-color);\n",
              "    }\n",
              "    30% {\n",
              "      border-color: transparent;\n",
              "      border-left-color: var(--fill-color);\n",
              "      border-top-color: var(--fill-color);\n",
              "      border-right-color: var(--fill-color);\n",
              "    }\n",
              "    40% {\n",
              "      border-color: transparent;\n",
              "      border-right-color: var(--fill-color);\n",
              "      border-top-color: var(--fill-color);\n",
              "    }\n",
              "    60% {\n",
              "      border-color: transparent;\n",
              "      border-right-color: var(--fill-color);\n",
              "    }\n",
              "    80% {\n",
              "      border-color: transparent;\n",
              "      border-right-color: var(--fill-color);\n",
              "      border-bottom-color: var(--fill-color);\n",
              "    }\n",
              "    90% {\n",
              "      border-color: transparent;\n",
              "      border-bottom-color: var(--fill-color);\n",
              "    }\n",
              "  }\n",
              "</style>\n",
              "\n",
              "  <script>\n",
              "    async function quickchart(key) {\n",
              "      const quickchartButtonEl =\n",
              "        document.querySelector('#' + key + ' button');\n",
              "      quickchartButtonEl.disabled = true;  // To prevent multiple clicks.\n",
              "      quickchartButtonEl.classList.add('colab-df-spinner');\n",
              "      try {\n",
              "        const charts = await google.colab.kernel.invokeFunction(\n",
              "            'suggestCharts', [key], {});\n",
              "      } catch (error) {\n",
              "        console.error('Error during call to suggestCharts:', error);\n",
              "      }\n",
              "      quickchartButtonEl.classList.remove('colab-df-spinner');\n",
              "      quickchartButtonEl.classList.add('colab-df-quickchart-complete');\n",
              "    }\n",
              "    (() => {\n",
              "      let quickchartButtonEl =\n",
              "        document.querySelector('#df-88c0423f-c40d-4e52-b857-93f2146101ef button');\n",
              "      quickchartButtonEl.style.display =\n",
              "        google.colab.kernel.accessAllowed ? 'block' : 'none';\n",
              "    })();\n",
              "  </script>\n",
              "</div>\n",
              "    </div>\n",
              "  </div>\n"
            ],
            "application/vnd.google.colaboratory.intrinsic+json": {
              "type": "dataframe",
              "variable_name": "df",
              "summary": "{\n  \"name\": \"df\",\n  \"rows\": 100,\n  \"fields\": [\n    {\n      \"column\": \"GoogleTrans\",\n      \"properties\": {\n        \"dtype\": \"number\",\n        \"std\": 0.3177084884540434,\n        \"min\": -1.132818579673767,\n        \"max\": 0.23149269819259644,\n        \"num_unique_values\": 100,\n        \"samples\": [\n          -0.8709887266159058,\n          -0.7438703775405884,\n          0.09207646548748016\n        ],\n        \"semantic_type\": \"\",\n        \"description\": \"\"\n      }\n    },\n    {\n      \"column\": \"Microsoft\",\n      \"properties\": {\n        \"dtype\": \"number\",\n        \"std\": 0.3217079393444019,\n        \"min\": -1.1202447414398193,\n        \"max\": 0.09529703855514526,\n        \"num_unique_values\": 100,\n        \"samples\": [\n          -0.8706713914871216,\n          -0.5456727743148804,\n          0.09529703855514526\n        ],\n        \"semantic_type\": \"\",\n        \"description\": \"\"\n      }\n    },\n    {\n      \"column\": \"DeepL\",\n      \"properties\": {\n        \"dtype\": \"number\",\n        \"std\": 0.33024554325637556,\n        \"min\": -1.262439489364624,\n        \"max\": 0.10618125647306442,\n        \"num_unique_values\": 100,\n        \"samples\": [\n          -0.9043465852737427,\n          -0.6626709699630737,\n          0.10618125647306442\n        ],\n        \"semantic_type\": \"\",\n        \"description\": \"\"\n      }\n    },\n    {\n      \"column\": \"GPT4\",\n      \"properties\": {\n        \"dtype\": \"number\",\n        \"std\": 0.32590319240182886,\n        \"min\": -1.1618494987487793,\n        \"max\": 0.20864436030387878,\n        \"num_unique_values\": 100,\n        \"samples\": [\n          -0.943893313407898,\n          -0.1870584934949875,\n          0.07473628222942352\n        ],\n        \"semantic_type\": \"\",\n        \"description\": \"\"\n      }\n    },\n    {\n      \"column\": \"Llama2\",\n      \"properties\": {\n        \"dtype\": \"number\",\n        \"std\": 0.32889846149103263,\n        \"min\": -1.157968282699585,\n        \"max\": 0.8938038349151611,\n        \"num_unique_values\": 100,\n        \"samples\": [\n          -1.0384259223937988,\n          -0.9203344583511353,\n          -0.05228891968727112\n        ],\n        \"semantic_type\": \"\",\n        \"description\": \"\"\n      }\n    },\n    {\n      \"column\": \"GLM4\",\n      \"properties\": {\n        \"dtype\": \"number\",\n        \"std\": 0.3217032865767805,\n        \"min\": -1.1956707239151,\n        \"max\": 0.22787606716156006,\n        \"num_unique_values\": 100,\n        \"samples\": [\n          -0.9364950656890869,\n          -0.6580768823623657,\n          0.18384552001953125\n        ],\n        \"semantic_type\": \"\",\n        \"description\": \"\"\n      }\n    },\n    {\n      \"column\": \"NiuTrans\",\n      \"properties\": {\n        \"dtype\": \"number\",\n        \"std\": 0.3248097707979534,\n        \"min\": -1.2127714157104492,\n        \"max\": 0.2357458472251892,\n        \"num_unique_values\": 100,\n        \"samples\": [\n          -0.8703515529632568,\n          -0.8054084181785583,\n          0.007875248789787292\n        ],\n        \"semantic_type\": \"\",\n        \"description\": \"\"\n      }\n    },\n    {\n      \"column\": \"VolcTrans\",\n      \"properties\": {\n        \"dtype\": \"number\",\n        \"std\": 0.32979358644686824,\n        \"min\": -1.132148265838623,\n        \"max\": 0.23149269819259644,\n        \"num_unique_values\": 100,\n        \"samples\": [\n          -0.792411744594574,\n          -0.8497492074966431,\n          0.07581369578838348\n        ],\n        \"semantic_type\": \"\",\n        \"description\": \"\"\n      }\n    },\n    {\n      \"column\": \"Baidu\",\n      \"properties\": {\n        \"dtype\": \"number\",\n        \"std\": 0.33969511248894363,\n        \"min\": -1.1923924684524536,\n        \"max\": 0.30093079805374146,\n        \"num_unique_values\": 100,\n        \"samples\": [\n          -0.8367471098899841,\n          -0.8541457653045654,\n          0.12234535813331604\n        ],\n        \"semantic_type\": \"\",\n        \"description\": \"\"\n      }\n    }\n  ]\n}"
            }
          },
          "metadata": {},
          "execution_count": 22
        }
      ]
    },
    {
      "cell_type": "code",
      "source": [
        "# Saving the results\n",
        "df.to_excel(outfile_path + 'bleurt_scores.xlsx', index=False)"
      ],
      "metadata": {
        "id": "x97RrPWYRS5P"
      },
      "execution_count": 23,
      "outputs": []
    }
  ]
}