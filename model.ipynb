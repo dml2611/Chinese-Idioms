{
  "nbformat": 4,
  "nbformat_minor": 0,
  "metadata": {
    "colab": {
      "provenance": [],
      "authorship_tag": "ABX9TyNgLBHUffFxQaSDnxSHZ7iM",
      "include_colab_link": true
    },
    "kernelspec": {
      "name": "python3",
      "display_name": "Python 3"
    },
    "language_info": {
      "name": "python"
    }
  },
  "cells": [
    {
      "cell_type": "markdown",
      "metadata": {
        "id": "view-in-github",
        "colab_type": "text"
      },
      "source": [
        "<a href=\"https://colab.research.google.com/github/dml2611/Chinese-Idioms/blob/main/model.ipynb\" target=\"_parent\"><img src=\"https://colab.research.google.com/assets/colab-badge.svg\" alt=\"Open In Colab\"/></a>"
      ]
    },
    {
      "cell_type": "code",
      "execution_count": 1,
      "metadata": {
        "id": "8OQOYmZ_g3LO"
      },
      "outputs": [],
      "source": [
        "def add(a,b):\n",
        "  return a+b\n",
        "\n",
        "def sub(a,b):\n",
        "  return a-b\n",
        "\n",
        "def mul(a,b):\n",
        "  return a*b\n",
        "\n",
        "def div(a,b):\n",
        "  return a/b\n",
        "\n",
        "def mod(a,b):\n",
        "  return a%b\n",
        "\n",
        "def power(a,b):\n",
        "  return a**b\n",
        "\n",
        "def floor(a,b):\n",
        "  return a//b\n",
        "\n",
        "def square(a):\n",
        "  return a**2\n",
        "\n",
        "def cube(a):\n",
        "  return a**3\n",
        "\n",
        "def factorial(a):\n",
        "  fact=1\n",
        "  for i in range(1,a+1):\n",
        "    fact=fact*i\n",
        "  return fact"
      ]
    },
    {
      "cell_type": "code",
      "source": [],
      "metadata": {
        "id": "MrAC1TNYhLTd"
      },
      "execution_count": null,
      "outputs": []
    }
  ]
}